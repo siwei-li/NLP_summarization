{
 "cells": [
  {
   "cell_type": "code",
   "execution_count": 6,
   "id": "716a342d",
   "metadata": {},
   "outputs": [],
   "source": [
    "import pandas as pd\n",
    "import numpy as np"
   ]
  },
  {
   "cell_type": "code",
   "execution_count": 7,
   "id": "ead50e79",
   "metadata": {},
   "outputs": [],
   "source": [
    "df = pd.read_csv(\"bart_predictions.csv\")"
   ]
  },
  {
   "cell_type": "code",
   "execution_count": 8,
   "id": "0845a380",
   "metadata": {},
   "outputs": [
    {
     "data": {
      "text/html": [
       "<div>\n",
       "<style scoped>\n",
       "    .dataframe tbody tr th:only-of-type {\n",
       "        vertical-align: middle;\n",
       "    }\n",
       "\n",
       "    .dataframe tbody tr th {\n",
       "        vertical-align: top;\n",
       "    }\n",
       "\n",
       "    .dataframe thead th {\n",
       "        text-align: right;\n",
       "    }\n",
       "</style>\n",
       "<table border=\"1\" class=\"dataframe\">\n",
       "  <thead>\n",
       "    <tr style=\"text-align: right;\">\n",
       "      <th></th>\n",
       "      <th>Unnamed: 0</th>\n",
       "      <th>Generated Text</th>\n",
       "      <th>Actual Text</th>\n",
       "    </tr>\n",
       "  </thead>\n",
       "  <tbody>\n",
       "    <tr>\n",
       "      <th>0</th>\n",
       "      <td>0</td>\n",
       "      <td>summarize: James Veitch is a hedge fund execut...</td>\n",
       "      <td>summarize: Suspicious emails: unclaimed insura...</td>\n",
       "    </tr>\n",
       "    <tr>\n",
       "      <th>1</th>\n",
       "      <td>1</td>\n",
       "      <td>summarize: \"I collect stories, and I collect d...</td>\n",
       "      <td>summarize: BrenÃ© Brown studies human connecti...</td>\n",
       "    </tr>\n",
       "    <tr>\n",
       "      <th>2</th>\n",
       "      <td>2</td>\n",
       "      <td>summarize: Can you draw like Michelangelo? In ...</td>\n",
       "      <td>summarize: Most people think they can't draw, ...</td>\n",
       "    </tr>\n",
       "    <tr>\n",
       "      <th>3</th>\n",
       "      <td>3</td>\n",
       "      <td>summarize: What is it about my brother's brain...</td>\n",
       "      <td>summarize: Jill Bolte Taylor got a research op...</td>\n",
       "    </tr>\n",
       "    <tr>\n",
       "      <th>4</th>\n",
       "      <td>4</td>\n",
       "      <td>summarize: In the 1970s, a woman was diagnosed...</td>\n",
       "      <td>summarize: Career analyst Dan Pink examines th...</td>\n",
       "    </tr>\n",
       "    <tr>\n",
       "      <th>...</th>\n",
       "      <td>...</td>\n",
       "      <td>...</td>\n",
       "      <td>...</td>\n",
       "    </tr>\n",
       "    <tr>\n",
       "      <th>811</th>\n",
       "      <td>811</td>\n",
       "      <td>summarize: In many places in the world, we don...</td>\n",
       "      <td>summarize: Ever have the sneaking suspicion yo...</td>\n",
       "    </tr>\n",
       "    <tr>\n",
       "      <th>812</th>\n",
       "      <td>812</td>\n",
       "      <td>summarize: What if we could create amazing, in...</td>\n",
       "      <td>summarize: When architect AntÃ³n GarcÃ­a-Abril...</td>\n",
       "    </tr>\n",
       "    <tr>\n",
       "      <th>813</th>\n",
       "      <td>813</td>\n",
       "      <td>summarize: In this inspiring talk, Sarah Parca...</td>\n",
       "      <td>summarize: Sarah Parcak hoped the power of the...</td>\n",
       "    </tr>\n",
       "    <tr>\n",
       "      <th>814</th>\n",
       "      <td>814</td>\n",
       "      <td>summarize: In this short, inspiring talk, Nati...</td>\n",
       "      <td>summarize: Estamos pescando mÃ¡s rÃ¡pido que l...</td>\n",
       "    </tr>\n",
       "    <tr>\n",
       "      <th>815</th>\n",
       "      <td>815</td>\n",
       "      <td>summarize: In this eye-opening talk, Rose Evel...</td>\n",
       "      <td>summarize: Esta charla es de un evento TEDx, o...</td>\n",
       "    </tr>\n",
       "  </tbody>\n",
       "</table>\n",
       "<p>816 rows × 3 columns</p>\n",
       "</div>"
      ],
      "text/plain": [
       "     Unnamed: 0                                     Generated Text  \\\n",
       "0             0  summarize: James Veitch is a hedge fund execut...   \n",
       "1             1  summarize: \"I collect stories, and I collect d...   \n",
       "2             2  summarize: Can you draw like Michelangelo? In ...   \n",
       "3             3  summarize: What is it about my brother's brain...   \n",
       "4             4  summarize: In the 1970s, a woman was diagnosed...   \n",
       "..          ...                                                ...   \n",
       "811         811  summarize: In many places in the world, we don...   \n",
       "812         812  summarize: What if we could create amazing, in...   \n",
       "813         813  summarize: In this inspiring talk, Sarah Parca...   \n",
       "814         814  summarize: In this short, inspiring talk, Nati...   \n",
       "815         815  summarize: In this eye-opening talk, Rose Evel...   \n",
       "\n",
       "                                           Actual Text  \n",
       "0    summarize: Suspicious emails: unclaimed insura...  \n",
       "1    summarize: BrenÃ© Brown studies human connecti...  \n",
       "2    summarize: Most people think they can't draw, ...  \n",
       "3    summarize: Jill Bolte Taylor got a research op...  \n",
       "4    summarize: Career analyst Dan Pink examines th...  \n",
       "..                                                 ...  \n",
       "811  summarize: Ever have the sneaking suspicion yo...  \n",
       "812  summarize: When architect AntÃ³n GarcÃ­a-Abril...  \n",
       "813  summarize: Sarah Parcak hoped the power of the...  \n",
       "814  summarize: Estamos pescando mÃ¡s rÃ¡pido que l...  \n",
       "815  summarize: Esta charla es de un evento TEDx, o...  \n",
       "\n",
       "[816 rows x 3 columns]"
      ]
     },
     "execution_count": 8,
     "metadata": {},
     "output_type": "execute_result"
    }
   ],
   "source": [
    "df"
   ]
  },
  {
   "cell_type": "code",
   "execution_count": 9,
   "id": "0b375743",
   "metadata": {},
   "outputs": [],
   "source": [
    "from rouge_score import rouge_scorer \n",
    "# take 3 n gram models and rougeL and rougeLsum types of score\n",
    "scorer = rouge_scorer.RougeScorer(['rouge1', 'rouge2', 'rouge3','rougeL','rougeLsum'], use_stemmer=True)\n",
    "\n",
    "def get_rougue_score(text, highlights, metric=\"rougeL\"):\n",
    "  max_score = 0\n",
    "  for h_text in highlights:\n",
    "    # print(scorer.score(text, h_text))\n",
    "    score =  scorer.score(text, h_text)[metric].fmeasure\n",
    "    # print(score, text, \"\\n \\t\" , h_text)\n",
    "    if score > max_score:\n",
    "      max_score = score \n",
    "  return max_score "
   ]
  },
  {
   "cell_type": "code",
   "execution_count": 10,
   "id": "ef362c7f",
   "metadata": {},
   "outputs": [],
   "source": [
    "df['Rouge1'] = df.apply(lambda x: get_rougue_score(x['Actual Text'], x['Generated Text'], metric=\"rouge1\"), axis=1)\n"
   ]
  },
  {
   "cell_type": "code",
   "execution_count": null,
   "id": "b0eed639",
   "metadata": {},
   "outputs": [],
   "source": [
    "df['Rouge2'] = df.apply(lambda x: get_rougue_score(x['Actual Text'], x['Generated Text'], metric=\"rouge2\"), axis=1)\n"
   ]
  },
  {
   "cell_type": "code",
   "execution_count": null,
   "id": "2ebac927",
   "metadata": {},
   "outputs": [],
   "source": [
    "df['Rouge3'] = df.apply(lambda x: get_rougue_score(x['Actual Text'], x['Generated Text'], metric=\"rouge3\"), axis=1)\n"
   ]
  },
  {
   "cell_type": "code",
   "execution_count": null,
   "id": "85021ab3",
   "metadata": {},
   "outputs": [],
   "source": [
    "df['RougeL'] = df.apply(lambda x: get_rougue_score(x['Actual Text'], x['Generated Text'], metric=\"rougeL\"), axis=1)\n"
   ]
  },
  {
   "cell_type": "code",
   "execution_count": null,
   "id": "c188498d",
   "metadata": {},
   "outputs": [],
   "source": [
    "df['RougeLsum'] = df.apply(lambda x: get_rougue_score(x['Actual Text'], x['Generated Text'], metric=\"rougeLsum\"), axis=1)"
   ]
  },
  {
   "cell_type": "code",
   "execution_count": null,
   "id": "f21d0b86",
   "metadata": {},
   "outputs": [],
   "source": [
    "df.to_csv(\"bart_predictions_with_rouge.csv\", sep=',', encoding='utf-8', index=False)"
   ]
  },
  {
   "cell_type": "code",
   "execution_count": null,
   "id": "c29c192b",
   "metadata": {},
   "outputs": [],
   "source": []
  }
 ],
 "metadata": {
  "kernelspec": {
   "display_name": "Python 3",
   "language": "python",
   "name": "python3"
  },
  "language_info": {
   "codemirror_mode": {
    "name": "ipython",
    "version": 3
   },
   "file_extension": ".py",
   "mimetype": "text/x-python",
   "name": "python",
   "nbconvert_exporter": "python",
   "pygments_lexer": "ipython3",
   "version": "3.8.11"
  }
 },
 "nbformat": 4,
 "nbformat_minor": 5
}
